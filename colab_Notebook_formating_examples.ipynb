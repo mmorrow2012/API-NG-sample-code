{
  "metadata": {
    "kernelspec": {
      "language": "python",
      "display_name": "Python 3",
      "name": "python3"
    },
    "language_info": {
      "name": "python",
      "version": "3.10.13",
      "mimetype": "text/x-python",
      "codemirror_mode": {
        "name": "ipython",
        "version": 3
      },
      "pygments_lexer": "ipython3",
      "nbconvert_exporter": "python",
      "file_extension": ".py"
    },
    "kaggle": {
      "accelerator": "none",
      "dataSources": [],
      "isInternetEnabled": true,
      "language": "python",
      "sourceType": "notebook",
      "isGpuEnabled": false
    },
    "colab": {
      "provenance": [],
      "include_colab_link": true
    }
  },
  "nbformat_minor": 0,
  "nbformat": 4,
  "cells": [
    {
      "cell_type": "markdown",
      "metadata": {
        "id": "view-in-github",
        "colab_type": "text"
      },
      "source": [
        "<a href=\"https://colab.research.google.com/github/mmorrow2012/API-NG-sample-code/blob/master/colab_Notebook_formating_examples.ipynb\" target=\"_parent\"><img src=\"https://colab.research.google.com/assets/colab-badge.svg\" alt=\"Open In Colab\"/></a>"
      ]
    },
    {
      "cell_type": "code",
      "source": [
        "# This Python 3 environment comes with many helpful analytics libraries installed\n",
        "# It is defined by the kaggle/python Docker image: https://github.com/kaggle/docker-python\n",
        "# For example, here's several helpful packages to load\n",
        "\n",
        "import numpy as np # linear algebra\n",
        "import pandas as pd # data processing, CSV file I/O (e.g. pd.read_csv)\n",
        "\n",
        "# Input data files are available in the read-only \"../input/\" directory\n",
        "# For example, running this (by clicking run or pressing Shift+Enter) will list all files under the input directory\n",
        "\n",
        "import os\n",
        "iskaggle = os.environ.get('KAGGLE_KERNEL_RUN_TYPE', '')\n",
        "for dirname, _, filenames in os.walk('/kaggle/input'):\n",
        "    for filename in filenames:\n",
        "        print(os.path.join(dirname, filename))\n",
        "\n",
        "# You can write up to 20GB to the current directory (/kaggle/working/) that gets preserved as output when you create a version using \"Save & Run All\"\n",
        "# You can also write temporary files to /kaggle/temp/, but they won't be saved outside of the current session\n",
        "\n",
        "if iskaggle:\n",
        "    !pip install -Uqq fastai\n",
        "\n",
        "# It's a good idea to ensure you're running the latest version of any libraries you need.\n",
        "# `!pip install -Uqq <libraries>` upgrades to the latest version of <libraries>\n",
        "# NB: You can safely ignore any warnings or errors pip spits out about running as root or incompatibilities"
      ],
      "metadata": {
        "_uuid": "8f2839f25d086af736a60e9eeb907d3b93b6e0e5",
        "_cell_guid": "b1076dfc-b9ad-4769-8c92-a6c4dae69d19",
        "execution": {
          "iopub.status.busy": "2024-05-22T17:59:41.297481Z",
          "iopub.execute_input": "2024-05-22T17:59:41.297901Z",
          "iopub.status.idle": "2024-05-22T17:59:54.376764Z",
          "shell.execute_reply.started": "2024-05-22T17:59:41.297867Z",
          "shell.execute_reply": "2024-05-22T17:59:54.375302Z"
        },
        "trusted": true,
        "id": "4nHorvwCEsTp"
      },
      "execution_count": 8,
      "outputs": []
    },
    {
      "cell_type": "code",
      "source": [
        "!pip install -Uqq duckduckgo_search"
      ],
      "metadata": {
        "id": "ChAw205hFIDm"
      },
      "execution_count": 9,
      "outputs": []
    },
    {
      "cell_type": "code",
      "source": [
        "?np\n"
      ],
      "metadata": {
        "execution": {
          "iopub.status.busy": "2024-05-22T17:59:54.381664Z",
          "iopub.execute_input": "2024-05-22T17:59:54.382343Z",
          "iopub.status.idle": "2024-05-22T17:59:54.389249Z",
          "shell.execute_reply.started": "2024-05-22T17:59:54.382303Z",
          "shell.execute_reply": "2024-05-22T17:59:54.387979Z"
        },
        "trusted": true,
        "id": "NgPgfXIVEsTq"
      },
      "execution_count": 10,
      "outputs": []
    },
    {
      "cell_type": "code",
      "source": [
        "# ??<package> display detailed info for a Python package\n",
        "# ??<package> display source code for a Python package\n",
        "# Doc<package> display docs for a Python package - needs https://nbdev.fast.ai/tutorials/docs_only.html ???"
      ],
      "metadata": {
        "execution": {
          "iopub.status.busy": "2024-05-22T17:59:54.390608Z",
          "iopub.execute_input": "2024-05-22T17:59:54.391027Z",
          "iopub.status.idle": "2024-05-22T17:59:54.402218Z",
          "shell.execute_reply.started": "2024-05-22T17:59:54.390986Z",
          "shell.execute_reply": "2024-05-22T17:59:54.400983Z"
        },
        "trusted": true,
        "id": "m5wOTPP_EsTr"
      },
      "execution_count": 11,
      "outputs": []
    },
    {
      "cell_type": "markdown",
      "source": [
        "* Documentation link [numpy docs](https://numpy.org/doc/)"
      ],
      "metadata": {
        "id": "WLCDJQCKEsTr"
      }
    },
    {
      "cell_type": "markdown",
      "source": [],
      "metadata": {
        "id": "JlJdSC3JEsTs"
      }
    },
    {
      "cell_type": "markdown",
      "source": [],
      "metadata": {
        "id": "VpX98LAsEsTt"
      }
    },
    {
      "cell_type": "code",
      "source": [
        "# running python commands\n",
        "\n",
        "print('hello world')\n",
        "print('1 + 1 = ',1+1)\n"
      ],
      "metadata": {
        "execution": {
          "iopub.status.busy": "2024-05-22T17:59:54.404139Z",
          "iopub.execute_input": "2024-05-22T17:59:54.404581Z",
          "iopub.status.idle": "2024-05-22T17:59:54.413694Z",
          "shell.execute_reply.started": "2024-05-22T17:59:54.40455Z",
          "shell.execute_reply": "2024-05-22T17:59:54.412559Z"
        },
        "trusted": true,
        "id": "48a02JXfEsTt",
        "colab": {
          "base_uri": "https://localhost:8080/"
        },
        "outputId": "a656ed38-2ac5-46bb-cc51-091d2497d907"
      },
      "execution_count": 12,
      "outputs": [
        {
          "output_type": "stream",
          "name": "stdout",
          "text": [
            "hello world\n",
            "1 + 1 =  2\n"
          ]
        }
      ]
    },
    {
      "cell_type": "code",
      "source": [
        "# running bash commands\n",
        "\n",
        "!date;pwd\n",
        "!df -h\n",
        "!ls -l;ps -ale\n",
        "!uname -mrs;lsb_release -a\n",
        "!pip show duckduckgo_search fastai"
      ],
      "metadata": {
        "execution": {
          "iopub.status.busy": "2024-05-22T17:59:54.416654Z",
          "iopub.execute_input": "2024-05-22T17:59:54.417103Z",
          "iopub.status.idle": "2024-05-22T18:00:10.182399Z",
          "shell.execute_reply.started": "2024-05-22T17:59:54.417064Z",
          "shell.execute_reply": "2024-05-22T18:00:10.180985Z"
        },
        "trusted": true,
        "id": "sySVRDYmEsTt",
        "colab": {
          "base_uri": "https://localhost:8080/"
        },
        "outputId": "4e95641f-6aa1-4e36-9cf5-e9ad851eb30a"
      },
      "execution_count": 13,
      "outputs": [
        {
          "output_type": "stream",
          "name": "stdout",
          "text": [
            "Wed May 22 08:55:13 PM UTC 2024\n",
            "/content\n",
            "Filesystem      Size  Used Avail Use% Mounted on\n",
            "overlay         108G   28G   81G  26% /\n",
            "tmpfs            64M     0   64M   0% /dev\n",
            "shm             5.8G     0  5.8G   0% /dev/shm\n",
            "/dev/root       2.0G  1.2G  820M  59% /usr/sbin/docker-init\n",
            "/dev/sda1        70G   46G   25G  65% /kaggle/input\n",
            "tmpfs           6.4G  692K  6.4G   1% /var/colab\n",
            "tmpfs           6.4G     0  6.4G   0% /proc/acpi\n",
            "tmpfs           6.4G     0  6.4G   0% /proc/scsi\n",
            "tmpfs           6.4G     0  6.4G   0% /sys/firmware\n",
            "total 4\n",
            "drwxr-xr-x 1 root root 4096 May 21 13:23 sample_data\n",
            "F S   UID     PID    PPID  C PRI  NI ADDR SZ WCHAN  TTY          TIME CMD\n",
            "4 S     0       1       0  0  80   0 -   269 do_sig ?        00:00:00 docker-init\n",
            "4 S     0       7       1  1  80   0 - 222059 do_epo ?       00:00:02 node\n",
            "4 S     0      18       7  0  80   0 -  1844 do_wai ?        00:00:00 oom_monitor.sh\n",
            "1 S     0      20       1  0  80   0 -  1844 do_wai ?        00:00:00 run.sh\n",
            "4 S     0      22      20  0  80   0 - 308953 futex_ ?       00:00:00 kernel_manager_\n",
            "4 S     0      24       0  0  80   0 -  1452 hrtime ?        00:00:00 tail\n",
            "4 Z     0      62       7  3  80   0 -     0 -      ?        00:00:07 python3 <defunct>\n",
            "4 S     0      63       7  0  80   0 - 16637 do_epo ?        00:00:00 colab-fileshim.\n",
            "4 R     0      81       7  1  80   0 - 89611 -      ?        00:00:03 jupyter-noteboo\n",
            "4 S     0      82       7  0  80   0 - 307538 futex_ ?       00:00:00 dap_multiplexer\n",
            "4 S     0     225      81  1  80   0 - 305609 do_sel ?       00:00:03 python3\n",
            "1 S     0     252       1  0  80   0 - 134851 futex_ ?       00:00:00 python3\n",
            "4 S     0    1016       7  0  80   0 - 309705 futex_ ?       00:00:00 language_servic\n",
            "4 S     0    1021    1016 15  80   0 - 219325 do_epo ?       00:00:03 node\n",
            "0 S     0    1128      18  0  80   0 -  1444 hrtime ?        00:00:00 sleep\n",
            "0 R     0    1132     225  0  80   0 -  2519 -      ?        00:00:00 ps\n",
            "Linux 6.1.85+ x86_64\n",
            "No LSB modules are available.\n",
            "Distributor ID:\tUbuntu\n",
            "Description:\tUbuntu 22.04.3 LTS\n",
            "Release:\t22.04\n",
            "Codename:\tjammy\n",
            "Name: duckduckgo_search\n",
            "Version: 6.1.0\n",
            "Summary: Search for words, documents, images, news, maps and text translation using the DuckDuckGo.com search engine.\n",
            "Home-page: \n",
            "Author: deedy5\n",
            "Author-email: \n",
            "License: MIT License\n",
            "Location: /usr/local/lib/python3.10/dist-packages\n",
            "Requires: click, orjson, pyreqwest-impersonate\n",
            "Required-by: \n",
            "---\n",
            "Name: fastai\n",
            "Version: 2.7.15\n",
            "Summary: fastai simplifies training fast and accurate neural nets using modern best practices\n",
            "Home-page: https://github.com/fastai/fastai\n",
            "Author: Jeremy Howard, Sylvain Gugger, and contributors\n",
            "Author-email: info@fast.ai\n",
            "License: Apache Software License 2.0\n",
            "Location: /usr/local/lib/python3.10/dist-packages\n",
            "Requires: fastcore, fastdownload, fastprogress, matplotlib, packaging, pandas, pillow, pip, pyyaml, requests, scikit-learn, scipy, spacy, torch, torchvision\n",
            "Required-by: \n"
          ]
        }
      ]
    },
    {
      "cell_type": "markdown",
      "source": [
        "* `!` tells the notebook to run a bash command\n",
        "* `pwd` is a bash command"
      ],
      "metadata": {
        "id": "qXJf8B11EsTu"
      }
    },
    {
      "cell_type": "markdown",
      "source": [
        "```Table```\n",
        "\n",
        "| Myth (don't need) | Truth\n",
        "|---|---|\n",
        "| Lots of math | Just high school math is sufficient\n",
        "| Lots of data | We've seen record-breaking results with <50 items of data\n",
        "| Lots of expensive computers | You can get what you need for state of the art work for free\n",
        "\n",
        "# Header1\n",
        "## Header2\n",
        "### Header3\n",
        "* bullet points\n",
        "* bullets points\n",
        "1. numbered points\n",
        "1. numbered points\n",
        "\n",
        "[python docs](https://docs.python.org/3/library/functions.html#dir)\n",
        "\n",
        "![online image](https://yt3.ggpht.com/5K-Z0YO97F18vFyD3KzCiU45z3aofcYkZHUgobmlLry_z4ljQZ4GgpXaQ72w3o7yEvh7pkVsYVg=s88-c-k-c0x00ffffff-no-rj)"
      ],
      "metadata": {
        "id": "rB2LvyBTEsTu"
      }
    }
  ]
}